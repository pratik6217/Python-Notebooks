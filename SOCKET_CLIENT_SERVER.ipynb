{
  "nbformat": 4,
  "nbformat_minor": 0,
  "metadata": {
    "colab": {
      "name": "SOCKET CLIENT - SERVER.ipynb",
      "provenance": [],
      "authorship_tag": "ABX9TyO+cbz0C5oAiY5lKcb0VLDe",
      "include_colab_link": true
    },
    "kernelspec": {
      "name": "python3",
      "display_name": "Python 3"
    }
  },
  "cells": [
    {
      "cell_type": "markdown",
      "metadata": {
        "id": "view-in-github",
        "colab_type": "text"
      },
      "source": [
        "<a href=\"https://colab.research.google.com/github/pratik6217/Python-Notebooks/blob/main/SOCKET_CLIENT_SERVER.ipynb\" target=\"_parent\"><img src=\"https://colab.research.google.com/assets/colab-badge.svg\" alt=\"Open In Colab\"/></a>"
      ]
    },
    {
      "cell_type": "markdown",
      "metadata": {
        "id": "ui2a_lJ-Pfik"
      },
      "source": [
        "SOCKET CLIENT"
      ]
    },
    {
      "cell_type": "code",
      "metadata": {
        "id": "VBCatWluPU3k"
      },
      "source": [
        "import socket\n",
        "\n",
        "my_socket = socket.socket(socket.AF_INET, socket.SOCK_STREAM)\n",
        "try:\n",
        "    my_socket.connect((\"localhost\",5000))\n",
        "    while True:\n",
        "        cmd = input(\"Enter the message:\").encode()\n",
        "        my_socket.send(cmd)\n",
        "        data = my_socket.recv(512)\n",
        "        print(data.decode())\n",
        "except KeyboardInterrupt:\n",
        "    print(\"Closing the connection !\")\n",
        "    my_socket.close()\n"
      ],
      "execution_count": null,
      "outputs": []
    },
    {
      "cell_type": "markdown",
      "metadata": {
        "id": "IjcUedG9Pimx"
      },
      "source": [
        "SOCKET SERVER"
      ]
    },
    {
      "cell_type": "code",
      "metadata": {
        "id": "zNUlUsnxPkNw"
      },
      "source": [
        "import socket\n",
        "\n",
        "server_socket = socket.socket(socket.AF_INET, socket.SOCK_STREAM)\n",
        "try:\n",
        "    server_socket.bind((\"localhost\",5000))\n",
        "    server_socket.listen(5)\n",
        "    print(\"Waiting for a client to connect.....\")\n",
        "    (client_socket, address) = server_socket.accept()\n",
        "    print(\"Connected to the client. \")\n",
        "    while True:\n",
        "        rd = client_socket.recv(5000).decode()\n",
        "        print(rd)\n",
        "        msg = input().encode()\n",
        "        client_socket.send(msg)\n",
        "\n",
        "\n",
        "except KeyboardInterrupt or Exception as exc:\n",
        "    print(\"Shutting Down due to error:\\n\",exc)\n",
        "    client_socket.shutdown(socket.SHUT_WR)\n",
        "\n",
        "\n",
        "server_socket.close()\n"
      ],
      "execution_count": null,
      "outputs": []
    }
  ]
}