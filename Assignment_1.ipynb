{
  "nbformat": 4,
  "nbformat_minor": 0,
  "metadata": {
    "colab": {
      "name": "Assignment 1.ipynb",
      "provenance": [],
      "authorship_tag": "ABX9TyM8GMdqI1E8ItvD7KbdPcUJ",
      "include_colab_link": true
    },
    "kernelspec": {
      "name": "python3",
      "display_name": "Python 3"
    }
  },
  "cells": [
    {
      "cell_type": "markdown",
      "metadata": {
        "id": "view-in-github",
        "colab_type": "text"
      },
      "source": [
        "<a href=\"https://colab.research.google.com/github/pratik6217/Python-Notebooks/blob/main/Assignment_1.ipynb\" target=\"_parent\"><img src=\"https://colab.research.google.com/assets/colab-badge.svg\" alt=\"Open In Colab\"/></a>"
      ]
    },
    {
      "cell_type": "markdown",
      "metadata": {
        "id": "sQoXzcGyy4O-"
      },
      "source": [
        "Question - 1\n",
        "\n",
        "Answer : RAINBOW"
      ]
    },
    {
      "cell_type": "markdown",
      "metadata": {
        "id": "hhTe14cizqeI"
      },
      "source": [
        "Question - 2"
      ]
    },
    {
      "cell_type": "code",
      "metadata": {
        "id": "_eriAD-cyzHl",
        "outputId": "0f088e9d-6897-4243-d85c-a1c0c9144142",
        "colab": {
          "base_uri": "https://localhost:8080/"
        }
      },
      "source": [
        "print(\"LETS UPGRADE\")"
      ],
      "execution_count": 2,
      "outputs": [
        {
          "output_type": "stream",
          "text": [
            "LETS UPGRADE\n"
          ],
          "name": "stdout"
        }
      ]
    },
    {
      "cell_type": "markdown",
      "metadata": {
        "id": "BoEearsSzvam"
      },
      "source": [
        "Question - 3"
      ]
    },
    {
      "cell_type": "code",
      "metadata": {
        "id": "16hQQDtoy4EY",
        "outputId": "c193d045-5cb1-4b39-87b0-64412412e682",
        "colab": {
          "base_uri": "https://localhost:8080/"
        }
      },
      "source": [
        "cost_price = int(input())\n",
        "selling_price = int(input())\n",
        "\n",
        "if (cost_price - selling_price) > 0:\n",
        "  print(\"Loss\")\n",
        "elif (cost_price - selling_price) <0:\n",
        "  print(\"Profit\")\n",
        "else:\n",
        "  print(\"Neither\")"
      ],
      "execution_count": 5,
      "outputs": [
        {
          "output_type": "stream",
          "text": [
            "20\n",
            "10\n",
            "Loss\n"
          ],
          "name": "stdout"
        }
      ]
    },
    {
      "cell_type": "markdown",
      "metadata": {
        "id": "WHTYkcsv06nF"
      },
      "source": [
        "Question - 4"
      ]
    },
    {
      "cell_type": "code",
      "metadata": {
        "id": "svEK1psK08mB",
        "outputId": "30c53ce3-26a2-49d0-c87b-0ce837b4e97b",
        "colab": {
          "base_uri": "https://localhost:8080/"
        }
      },
      "source": [
        "amount = int(input())\n",
        "\n",
        "print(amount * 80)"
      ],
      "execution_count": 7,
      "outputs": [
        {
          "output_type": "stream",
          "text": [
            "20\n",
            "1600\n"
          ],
          "name": "stdout"
        }
      ]
    }
  ]
}