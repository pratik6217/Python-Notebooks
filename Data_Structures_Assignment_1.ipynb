{
  "nbformat": 4,
  "nbformat_minor": 0,
  "metadata": {
    "colab": {
      "name": "Data_Structures_Assignment 1.ipynb",
      "provenance": [],
      "authorship_tag": "ABX9TyMA4121HlJAhPdoZDdt+CRI",
      "include_colab_link": true
    },
    "kernelspec": {
      "name": "python3",
      "display_name": "Python 3"
    }
  },
  "cells": [
    {
      "cell_type": "markdown",
      "metadata": {
        "id": "view-in-github",
        "colab_type": "text"
      },
      "source": [
        "<a href=\"https://colab.research.google.com/github/pratik6217/Python-Notebooks/blob/main/Data_Structures_Assignment_1.ipynb\" target=\"_parent\"><img src=\"https://colab.research.google.com/assets/colab-badge.svg\" alt=\"Open In Colab\"/></a>"
      ]
    },
    {
      "cell_type": "code",
      "metadata": {
        "colab": {
          "base_uri": "https://localhost:8080/"
        },
        "id": "vI9ihsHCvqRJ",
        "outputId": "892b4c5e-c033-44fa-c25c-9c51c860853c"
      },
      "source": [
        "num1 = int(input(\"Enter number 1: \"))\r\n",
        "num2 = int(input(\"Enter number 2: \"))\r\n",
        "\r\n",
        "add = num1 + num2\r\n",
        "sub = num1 - num2\r\n",
        "mul = num1 * num2\r\n",
        "div = num1 / num2\r\n",
        "print()\r\n",
        "print(f\"Addition: {num1} + {num2} = {add}\".format(num1 = num1,num2 = num2, add = add))\r\n",
        "print(f\"Substraction: {num1} - {num2} = {sub}\".format(num1 = num1, num2 = num2, sub = sub))\r\n",
        "print(f\"Multiplication: {num1} * {num2} = {mul}\".format(num1 = num1, num2 = num2, mul = mul))\r\n",
        "print(f\"Addition: {num1} / {num2} = {div}\".format(num1 = num1, num2 = num2, div = div))\r\n"
      ],
      "execution_count": 14,
      "outputs": [
        {
          "output_type": "stream",
          "text": [
            "Enter number 1: 10\n",
            "Enter number 2: 5\n",
            "\n",
            "Addition: 10 + 5 = 15\n",
            "Substraction: 10 - 5 = 5\n",
            "Multiplication: 10 * 5 = 50\n",
            "Addition: 10 / 5 = 2.0\n"
          ],
          "name": "stdout"
        }
      ]
    },
    {
      "cell_type": "code",
      "metadata": {
        "colab": {
          "base_uri": "https://localhost:8080/"
        },
        "id": "VeDJ813GwObj",
        "outputId": "824b2a83-5f77-44ff-8ae0-5ddd3c0ef228"
      },
      "source": [
        "x = int(input(\"Please enter the number: \"))\r\n",
        "y = int(input(\"Please enter the power: \"))\r\n",
        "print()\r\n",
        "print(r\"{} ^ {} = {}\".format(x, y, x**y))"
      ],
      "execution_count": 21,
      "outputs": [
        {
          "output_type": "stream",
          "text": [
            "Please enter the number: 10\n",
            "Please enter the power: 10\n",
            "\n",
            "10 ^ 10 = 10000000000\n"
          ],
          "name": "stdout"
        }
      ]
    },
    {
      "cell_type": "code",
      "metadata": {
        "id": "cZsXhSYRw7Br"
      },
      "source": [
        ""
      ],
      "execution_count": 20,
      "outputs": []
    }
  ]
}