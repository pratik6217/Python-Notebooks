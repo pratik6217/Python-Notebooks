{
  "nbformat": 4,
  "nbformat_minor": 0,
  "metadata": {
    "colab": {
      "name": "Assignment 2.ipynb",
      "provenance": [],
      "authorship_tag": "ABX9TyNy37OEu/b3Sa/NCEKTJ4dE",
      "include_colab_link": true
    },
    "kernelspec": {
      "name": "python3",
      "display_name": "Python 3"
    }
  },
  "cells": [
    {
      "cell_type": "markdown",
      "metadata": {
        "id": "view-in-github",
        "colab_type": "text"
      },
      "source": [
        "<a href=\"https://colab.research.google.com/github/pratik6217/Python-Notebooks/blob/main/Assignment_2.ipynb\" target=\"_parent\"><img src=\"https://colab.research.google.com/assets/colab-badge.svg\" alt=\"Open In Colab\"/></a>"
      ]
    },
    {
      "cell_type": "markdown",
      "metadata": {
        "id": "aMY9dEDc2mqK"
      },
      "source": [
        "Question - 1"
      ]
    },
    {
      "cell_type": "code",
      "metadata": {
        "id": "M4k8kmMI2jeB",
        "outputId": "433add77-122c-49ce-88a9-4a64ae2a8bf9",
        "colab": {
          "base_uri": "https://localhost:8080/"
        }
      },
      "source": [
        "even_list = []\n",
        "\n",
        "for i in range(10):\n",
        "  n = int(input())\n",
        "  if n % 2 ==0:\n",
        "    even_list.append(n)\n",
        "  else:\n",
        "    continue\n",
        "\n",
        "print(even_list)"
      ],
      "execution_count": 1,
      "outputs": [
        {
          "output_type": "stream",
          "text": [
            "1\n",
            "2\n",
            "3\n",
            "4\n",
            "5\n",
            "6\n",
            "7\n",
            "8\n",
            "9\n",
            "10\n",
            "[2, 4, 6, 8, 10]\n"
          ],
          "name": "stdout"
        }
      ]
    },
    {
      "cell_type": "markdown",
      "metadata": {
        "id": "U3yEfLqc3Nxo"
      },
      "source": [
        "Question - 2"
      ]
    },
    {
      "cell_type": "markdown",
      "metadata": {
        "id": "BPQ1eT_U3WQ_"
      },
      "source": [
        "List comprehensions: \n",
        "\n",
        "When we want to perform certain tasks in a loop it can be done on the same line using list comrehensions.\n",
        "\n",
        "Eg: The above question can also be solved using list comprehensions as follows:"
      ]
    },
    {
      "cell_type": "code",
      "metadata": {
        "id": "1K7GXOXm2mVo",
        "outputId": "9a6e28f3-9ef7-4008-9118-6e815bbf267f",
        "colab": {
          "base_uri": "https://localhost:8080/"
        }
      },
      "source": [
        "list = [int(input()) for i in range(10)]\n",
        "\n",
        "even_list = [ i for i in list if i % 2 == 0]\n",
        "\n",
        "print(even_list)"
      ],
      "execution_count": 10,
      "outputs": [
        {
          "output_type": "stream",
          "text": [
            "1\n",
            "2\n",
            "3\n",
            "4\n",
            "5\n",
            "6\n",
            "7\n",
            "8\n",
            "9\n",
            "10\n",
            "[2, 4, 6, 8, 10]\n"
          ],
          "name": "stdout"
        }
      ]
    },
    {
      "cell_type": "markdown",
      "metadata": {
        "id": "IKV2mvWr5vA3"
      },
      "source": [
        "Question - 3"
      ]
    },
    {
      "cell_type": "code",
      "metadata": {
        "id": "Bip8mI2X5xL-",
        "outputId": "a257d301-f370-4023-fe3d-a521a022cfc0",
        "colab": {
          "base_uri": "https://localhost:8080/"
        }
      },
      "source": [
        "n = int(input())\n",
        "d = {}\n",
        "\n",
        "for i in range(1,n+1,1):\n",
        "  d[i] = i**2\n",
        "\n",
        "print(d)\n"
      ],
      "execution_count": 13,
      "outputs": [
        {
          "output_type": "stream",
          "text": [
            "5\n",
            "{1: 1, 2: 4, 3: 9, 4: 16, 5: 25}\n",
            "dict_keys([1, 2, 3, 4, 5])\n",
            "dict_values([1, 4, 9, 16, 25])\n",
            "dict_items([(1, 1), (2, 4), (3, 9), (4, 16), (5, 25)])\n"
          ],
          "name": "stdout"
        }
      ]
    },
    {
      "cell_type": "markdown",
      "metadata": {
        "id": "3kxEneeB6MTo"
      },
      "source": [
        "Question - 4\n"
      ]
    },
    {
      "cell_type": "code",
      "metadata": {
        "id": "lgJx9ch86OPY",
        "outputId": "2170504a-2492-4b49-9631-a34402ca2150",
        "colab": {
          "base_uri": "https://localhost:8080/"
        }
      },
      "source": [
        "import math\n",
        "\n",
        "x1, y1 = 0, 0\n",
        "x2, y2 = 0, 0\n",
        "\n",
        "n = int(input())\n",
        "for i in range(n):\n",
        "  command, steps = input().split()\n",
        "  if command == \"UP\":\n",
        "    y2 += int(steps)\n",
        "  elif command == \"DOWN\":\n",
        "    y2 -= int(steps)\n",
        "  elif command == \"LEFT\":\n",
        "    x2 -= int(steps)\n",
        "  elif command == \"RIGHT\":\n",
        "    x2 += int(steps)\n",
        "\n",
        "print(int(math.pow(( (x2-x1)**2 + (y2-y1)**2 ) , 0.5))) "
      ],
      "execution_count": 17,
      "outputs": [
        {
          "output_type": "stream",
          "text": [
            "4\n",
            "UP 5\n",
            "DOWN 3\n",
            "LEFT 3\n",
            "RIGHT 2\n",
            "2\n"
          ],
          "name": "stdout"
        }
      ]
    }
  ]
}