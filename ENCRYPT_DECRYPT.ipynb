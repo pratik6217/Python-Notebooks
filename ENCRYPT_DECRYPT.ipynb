{
  "nbformat": 4,
  "nbformat_minor": 0,
  "metadata": {
    "colab": {
      "name": "ENCRYPT - DECRYPT.ipynb",
      "provenance": [],
      "collapsed_sections": [],
      "authorship_tag": "ABX9TyNevx029vjI2jrSkvixnWgr",
      "include_colab_link": true
    },
    "kernelspec": {
      "name": "python3",
      "display_name": "Python 3"
    }
  },
  "cells": [
    {
      "cell_type": "markdown",
      "metadata": {
        "id": "view-in-github",
        "colab_type": "text"
      },
      "source": [
        "<a href=\"https://colab.research.google.com/github/pratik6217/Python-Notebooks/blob/main/ENCRYPT_DECRYPT.ipynb\" target=\"_parent\"><img src=\"https://colab.research.google.com/assets/colab-badge.svg\" alt=\"Open In Colab\"/></a>"
      ]
    },
    {
      "cell_type": "code",
      "metadata": {
        "id": "QreTuWRZioLl"
      },
      "source": [
        "import string\n",
        "import random\n",
        "def encrypt(data):\n",
        "  lower_case = {}\n",
        "  upper_case = {}\n",
        "  final_string = \"\"\n",
        "  for i in string.ascii_lowercase:\n",
        "    if i not in lower_case:\n",
        "      lower_case[i] = string.ascii_lowercase.index(i) + 1\n",
        "  for i in string.ascii_uppercase:\n",
        "    if i not in upper_case:\n",
        "      upper_case[i] = -(string.ascii_uppercase.index(i) + 1)\n",
        "  \n",
        "  for i in data:\n",
        "    if i == \" \":\n",
        "      final_string += \" \"\n",
        "    elif i in upper_case:\n",
        "      final_string += random.choice(string.ascii_letters) + str(upper_case[i]) \n",
        "    elif i in lower_case:\n",
        "      final_string += random.choice(string.ascii_letters) + str(lower_case[i])\n",
        "  return final_string \n"
      ],
      "execution_count": 109,
      "outputs": []
    },
    {
      "cell_type": "code",
      "metadata": {
        "id": "3xCMNm7XjOXF",
        "outputId": "9c127ae1-635f-4880-d964-61994b8d3104",
        "colab": {
          "base_uri": "https://localhost:8080/",
          "height": 69
        }
      },
      "source": [
        "'''def decrypt(data):\n",
        "  upper_case = {}\n",
        "  lower_case = {}\n",
        "  final_string = \"\"\n",
        "  for i in range(1,27):\n",
        "    lower_case[i] = string.ascii_lowercase[i-1]\n",
        "  for i in range(-1,-27,-1):\n",
        "    upper_case[i] = string.ascii_uppercase[abs(i)-1]\n",
        "    \n",
        "  \n",
        "  for i in data:\n",
        "    if i in upper_case:\n",
        "      final_string += str(upper_case[i])\n",
        "    elif i in lower_case:\n",
        "      final_string += str(lower_case[i])\n",
        "  return final_string'''\n"
      ],
      "execution_count": 97,
      "outputs": [
        {
          "output_type": "execute_result",
          "data": {
            "application/vnd.google.colaboratory.intrinsic+json": {
              "type": "string"
            },
            "text/plain": [
              "'def decrypt(data):\\n  upper_case = {}\\n  lower_case = {}\\n  final_string = \"\"\\n  for i in range(1,27):\\n    lower_case[i] = string.ascii_lowercase[i-1]\\n  for i in range(-1,-27,-1):\\n    upper_case[i] = string.ascii_uppercase[abs(i)-1]\\n    \\n  \\n  for i in data:\\n    if i in upper_case:\\n      final_string += str(upper_case[i])\\n    elif i in lower_case:\\n      final_string += str(lower_case[i])\\n  return final_string'"
            ]
          },
          "metadata": {
            "tags": []
          },
          "execution_count": 97
        }
      ]
    },
    {
      "cell_type": "code",
      "metadata": {
        "id": "By4FXWRmlhKQ"
      },
      "source": [
        "import re\n",
        "def decrypt(data):\n",
        "  upper_case = {}\n",
        "  lower_case = {}\n",
        "  final_string = \"\"\n",
        "  r = \"(-?[2][0-6]|-?1[0-9]|-?[0-9]|\\s)\"\n",
        "  result = re.findall(r, data)\n",
        "  for i in range(1,27):\n",
        "    lower_case[str(i)] = string.ascii_lowercase[i-1]\n",
        "  for i in range(-1,-27,-1):\n",
        "    upper_case[str(i)] = string.ascii_uppercase[abs(i)-1]\n",
        "  for i in result:\n",
        "    if i == \" \":\n",
        "      final_string += \" \"\n",
        "    elif i in lower_case:\n",
        "      final_string += lower_case[i]\n",
        "    elif i in upper_case:\n",
        "      final_string += upper_case[i]\n",
        "  return final_string\n",
        "\n",
        "  \n",
        "\n"
      ],
      "execution_count": 110,
      "outputs": []
    },
    {
      "cell_type": "code",
      "metadata": {
        "id": "cdn0EYIqlkr0",
        "outputId": "c7dde6e7-01d2-4309-84a5-97bd9aeac893",
        "colab": {
          "base_uri": "https://localhost:8080/"
        }
      },
      "source": [
        "inp = input(\"Please enter a string to encrypt.....\")\n",
        "en = encrypt(inp)\n",
        "out = decrypt(en)\n",
        "print(en)\n",
        "print(out)\n"
      ],
      "execution_count": 111,
      "outputs": [
        {
          "output_type": "stream",
          "text": [
            "Please enter a string to encrypt.....Pratik Mishra\n",
            "z-16c18z1p20u9q11 f-13g9w19k8b18p1\n",
            "Pratik Mishra\n"
          ],
          "name": "stdout"
        }
      ]
    },
    {
      "cell_type": "code",
      "metadata": {
        "id": "8QQcmIloNxoW"
      },
      "source": [
        ""
      ],
      "execution_count": null,
      "outputs": []
    }
  ]
}