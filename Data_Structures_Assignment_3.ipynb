{
  "nbformat": 4,
  "nbformat_minor": 0,
  "metadata": {
    "colab": {
      "name": "Data_Structures_Assignment 3.ipynb",
      "provenance": [],
      "authorship_tag": "ABX9TyOHe7aIrNUBIHxXcIjfpplg",
      "include_colab_link": true
    },
    "kernelspec": {
      "name": "python3",
      "display_name": "Python 3"
    }
  },
  "cells": [
    {
      "cell_type": "markdown",
      "metadata": {
        "id": "view-in-github",
        "colab_type": "text"
      },
      "source": [
        "<a href=\"https://colab.research.google.com/github/pratik6217/Python-Notebooks/blob/main/Data_Structures_Assignment_3.ipynb\" target=\"_parent\"><img src=\"https://colab.research.google.com/assets/colab-badge.svg\" alt=\"Open In Colab\"/></a>"
      ]
    },
    {
      "cell_type": "code",
      "metadata": {
        "colab": {
          "base_uri": "https://localhost:8080/"
        },
        "id": "vI9ihsHCvqRJ",
        "outputId": "57e7a1b2-e7bc-42c4-c93b-bf7581e0b5b2"
      },
      "source": [
        "arr = list(map(int, input(\"Enter Values: \").split()))\r\n",
        "print(\"Original Array: \",arr)\r\n",
        "x = int(input(\"Enter the position of the element to remove from the array: \"))\r\n",
        "if x <= len(arr):\r\n",
        "  del arr[x]\r\n",
        "else:\r\n",
        "  print(\"Please enter a valid position !!\")\r\n",
        "print(arr)"
      ],
      "execution_count": 9,
      "outputs": [
        {
          "output_type": "stream",
          "text": [
            "Enter Values: 10 20 30 40 50\n",
            "Original Array:  [10, 20, 30, 40, 50]\n",
            "Enter the position of the element to remove from the array: 3\n",
            "[10, 20, 30, 50]\n"
          ],
          "name": "stdout"
        }
      ]
    },
    {
      "cell_type": "code",
      "metadata": {
        "id": "VeDJ813GwObj"
      },
      "source": [
        ""
      ],
      "execution_count": 9,
      "outputs": []
    },
    {
      "cell_type": "code",
      "metadata": {
        "id": "cZsXhSYRw7Br"
      },
      "source": [
        ""
      ],
      "execution_count": null,
      "outputs": []
    }
  ]
}