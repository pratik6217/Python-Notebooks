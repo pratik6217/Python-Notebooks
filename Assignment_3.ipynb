{
  "nbformat": 4,
  "nbformat_minor": 0,
  "metadata": {
    "colab": {
      "name": "Assignment - 3.ipynb",
      "provenance": [],
      "collapsed_sections": [],
      "authorship_tag": "ABX9TyOaFx/jrALL+kLarAScEOpT",
      "include_colab_link": true
    },
    "kernelspec": {
      "name": "python3",
      "display_name": "Python 3"
    }
  },
  "cells": [
    {
      "cell_type": "markdown",
      "metadata": {
        "id": "view-in-github",
        "colab_type": "text"
      },
      "source": [
        "<a href=\"https://colab.research.google.com/github/pratik6217/Python-Notebooks/blob/main/Assignment_3.ipynb\" target=\"_parent\"><img src=\"https://colab.research.google.com/assets/colab-badge.svg\" alt=\"Open In Colab\"/></a>"
      ]
    },
    {
      "cell_type": "markdown",
      "metadata": {
        "id": "9TIMhMOtdVpl"
      },
      "source": [
        "Question - 1\n"
      ]
    },
    {
      "cell_type": "code",
      "metadata": {
        "id": "dELPAurbdPtm"
      },
      "source": [
        "import numpy as np\n",
        "import matplotlib.pyplot as plt"
      ],
      "execution_count": 1,
      "outputs": []
    },
    {
      "cell_type": "code",
      "metadata": {
        "id": "24ppseuNdqvF",
        "outputId": "7b7470f3-90c1-44bf-9f3f-60314992e2b9",
        "colab": {
          "base_uri": "https://localhost:8080/"
        }
      },
      "source": [
        "arr = np.arange(2,50,3).reshape(16)\n",
        "print(arr)"
      ],
      "execution_count": 4,
      "outputs": [
        {
          "output_type": "stream",
          "text": [
            "[ 2  5  8 11 14 17 20 23 26 29 32 35 38 41 44 47]\n"
          ],
          "name": "stdout"
        }
      ]
    },
    {
      "cell_type": "markdown",
      "metadata": {
        "id": "OZvTjEkNeDWK"
      },
      "source": [
        "Question - 2"
      ]
    },
    {
      "cell_type": "code",
      "metadata": {
        "id": "Qd3WqPXld6fm",
        "outputId": "145456e4-12dc-4a0b-b036-ac37a2ceb687",
        "colab": {
          "base_uri": "https://localhost:8080/"
        }
      },
      "source": [
        "l1 = list(map(int, input().split()))\n",
        "l2 = list(map(int, input().split()))\n",
        "arr1 = np.array(l1)\n",
        "arr2 = np.array(l2)\n",
        "\n",
        "arr = np.concatenate([arr1, arr2])\n",
        "print(arr)\n",
        "print(np.sort(arr1))\n",
        "print(np.sort(arr2))"
      ],
      "execution_count": 18,
      "outputs": [
        {
          "output_type": "stream",
          "text": [
            "1 2 3 4 5\n",
            "6 7 8 9 10\n",
            "[ 1  2  3  4  5  6  7  8  9 10]\n",
            "[1 2 3 4 5]\n",
            "[ 6  7  8  9 10]\n"
          ],
          "name": "stdout"
        }
      ]
    },
    {
      "cell_type": "markdown",
      "metadata": {
        "id": "sbOGU9EGiU9E"
      },
      "source": [
        "Question - 3"
      ]
    },
    {
      "cell_type": "code",
      "metadata": {
        "id": "m3ykizgBfI4y",
        "outputId": "71b24c8c-e447-4fa3-e363-2f1c68b3c36b",
        "colab": {
          "base_uri": "https://localhost:8080/"
        }
      },
      "source": [
        "arr = np.array([[1,2,3,4,5],[6,7,8,9,10]])\n",
        "shape = arr.shape\n",
        "dimension = arr.ndim\n",
        "size = arr.size\n",
        "print(shape)\n",
        "print(dimension)\n",
        "print(size)"
      ],
      "execution_count": 24,
      "outputs": [
        {
          "output_type": "stream",
          "text": [
            "(2, 5)\n",
            "2\n",
            "10\n"
          ],
          "name": "stdout"
        }
      ]
    },
    {
      "cell_type": "code",
      "metadata": {
        "id": "Iw7sA1FYjAeS",
        "outputId": "0565a7df-d84e-4789-aa1d-b4043edf241a",
        "colab": {
          "base_uri": "https://localhost:8080/"
        }
      },
      "source": [
        "arr = np.array([1,2,3,4,5,6,7,8,9,10])\n",
        "print(arr)\n",
        "print(\"dimensiom:\",arr.ndim)\n",
        "new_arr = arr.reshape(2,5)\n",
        "print(new_arr)\n",
        "print(\"dimension:\",new_arr.ndim)"
      ],
      "execution_count": 27,
      "outputs": [
        {
          "output_type": "stream",
          "text": [
            "[ 1  2  3  4  5  6  7  8  9 10]\n",
            "dimensiom: 1\n",
            "[[ 1  2  3  4  5]\n",
            " [ 6  7  8  9 10]]\n",
            "dimension: 2\n"
          ],
          "name": "stdout"
        }
      ]
    },
    {
      "cell_type": "markdown",
      "metadata": {
        "id": "ne7LR2szlTQ7"
      },
      "source": [
        "Question - 5"
      ]
    },
    {
      "cell_type": "code",
      "metadata": {
        "id": "W54fAD8QkRIU",
        "outputId": "a82b9d51-f741-415f-960a-119ef23d39b9",
        "colab": {
          "base_uri": "https://localhost:8080/"
        }
      },
      "source": [
        "arr1 = np.array([[1,2,3],[4,5,6],[7,8,9]])\n",
        "arr2 = np.array([[10,11,12],[13,14,15],[16,17,18]])\n",
        "print(\"Stacked Vertically:\")\n",
        "v = np.concatenate((arr1,arr2),axis=0)\n",
        "print(v)\n",
        "print(\"Stacked Horizontally:\")\n",
        "h = np.concatenate((arr1,arr2),axis=1)\n",
        "print(h)"
      ],
      "execution_count": 32,
      "outputs": [
        {
          "output_type": "stream",
          "text": [
            "Stacked Vertically:\n",
            "[[ 1  2  3]\n",
            " [ 4  5  6]\n",
            " [ 7  8  9]\n",
            " [10 11 12]\n",
            " [13 14 15]\n",
            " [16 17 18]]\n",
            "Stacked Horizontally:\n",
            "[[ 1  2  3 10 11 12]\n",
            " [ 4  5  6 13 14 15]\n",
            " [ 7  8  9 16 17 18]]\n"
          ],
          "name": "stdout"
        }
      ]
    },
    {
      "cell_type": "markdown",
      "metadata": {
        "id": "mO0U8ATxmmOB"
      },
      "source": [
        "Question - 6"
      ]
    },
    {
      "cell_type": "code",
      "metadata": {
        "id": "s9FtORO2mGXs",
        "outputId": "0f323f99-e07e-4b97-aee1-99b91cd7add6",
        "colab": {
          "base_uri": "https://localhost:8080/"
        }
      },
      "source": [
        "arr = np.array([1,2,3,4,5,6,1,3,5,6,7,8,9,10])\n",
        "print(\"Old Array:\",arr)\n",
        "\n",
        "np.unique(arr,return_counts=True)\n",
        "\n"
      ],
      "execution_count": 52,
      "outputs": [
        {
          "output_type": "stream",
          "text": [
            "Old Array: [ 1  2  3  4  5  6  1  3  5  6  7  8  9 10]\n"
          ],
          "name": "stdout"
        },
        {
          "output_type": "execute_result",
          "data": {
            "text/plain": [
              "(array([ 1,  2,  3,  4,  5,  6,  7,  8,  9, 10]),\n",
              " array([2, 1, 2, 1, 2, 2, 1, 1, 1, 1]))"
            ]
          },
          "metadata": {
            "tags": []
          },
          "execution_count": 52
        }
      ]
    },
    {
      "cell_type": "code",
      "metadata": {
        "id": "z4NZUYPWnEyh"
      },
      "source": [
        ""
      ],
      "execution_count": null,
      "outputs": []
    }
  ]
}