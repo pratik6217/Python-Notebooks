{
  "nbformat": 4,
  "nbformat_minor": 0,
  "metadata": {
    "colab": {
      "name": "Guess The Number.ipynb",
      "provenance": [],
      "collapsed_sections": [],
      "authorship_tag": "ABX9TyNzYqpeHRg/fzVb6ff9XIJq",
      "include_colab_link": true
    },
    "kernelspec": {
      "name": "python3",
      "display_name": "Python 3"
    }
  },
  "cells": [
    {
      "cell_type": "markdown",
      "metadata": {
        "id": "view-in-github",
        "colab_type": "text"
      },
      "source": [
        "<a href=\"https://colab.research.google.com/github/pratik6217/Python-Notebooks/blob/main/Guess_The_Number.ipynb\" target=\"_parent\"><img src=\"https://colab.research.google.com/assets/colab-badge.svg\" alt=\"Open In Colab\"/></a>"
      ]
    },
    {
      "cell_type": "code",
      "metadata": {
        "id": "DbDcU_5yO38y",
        "outputId": "3baef39d-be46-4807-bfb6-80ccb5297eb4",
        "colab": {
          "base_uri": "https://localhost:8080/"
        }
      },
      "source": [
        "import random \n",
        "\n",
        "def even(num):\n",
        "    if num % 2 == 0:\n",
        "        return \"Even\"\n",
        "    else:\n",
        "        return \"Odd\"\n",
        "\n",
        "def prime(num):\n",
        "    for i in range(2,num):\n",
        "        if num % i == 0 and i == num:\n",
        "            return \"Prime\"\n",
        "        else:\n",
        "            return \"Not a prime\"\n",
        "\n",
        "\n",
        "def hint(guessed_no, actual_no):\n",
        "    less_than = [\"Your guess is too low\", \"Please raise your guess\", \"You are guessing too low\", \"You can go more higher and remmber the starting hint.\"]\n",
        "    greater_than = [\"Ohh that's way too high !\", \"Please lower your expectations...\", \"Your guess is way too high and remember the starting hint.\"]\n",
        "    if (guessed_no) < actual_no:\n",
        "        return random.choice(less_than)\n",
        "    else:\n",
        "        return random.choice(greater_than)\n",
        "\n",
        "\n",
        "def guess_game():\n",
        "    print(\"Welcome to Guess the number game:\\nIn this game you just have to guess the number.....so let's begin with it: \")\n",
        "    print(\"Please enter the difficulty level:\\n1.Easy - Between 1 to 10\\n2.Medium - Between 11 to 100\\n3.Hard - between 101 and 1000\" )\n",
        "    while True:\n",
        "        choice = input()\n",
        "        if choice == \"1\" or choice.lower() == \"easy\":\n",
        "            actual_no = random.randint(0,10) \n",
        "            break\n",
        "        elif choice == \"2\" or choice.lower() == \"medium\":\n",
        "            actual_no = random.randint(11,100)\n",
        "            break \n",
        "        elif choice == \"3\" or choice.lower() == \"hard\":\n",
        "            actual_no = random.randint(101,1000)\n",
        "            break\n",
        "        else:\n",
        "            print(\"Please enter correct choice !\")\n",
        "        \n",
        "    print(\"Let the guessing begin:\")\n",
        "    gen = random.choice([even(actual_no),prime(actual_no)])\n",
        "    print(\"Here's a small hint for you to start with:\\nThe number is a {hint} number.\".format(hint=gen))\n",
        "    while True:\n",
        "        print(\"Enter your guess :\")\n",
        "        try:\n",
        "            guessed_no = int(input())\n",
        "            if guessed_no == actual_no:\n",
        "                print(\"Your guess was correct.\")\n",
        "                break\n",
        "            else:\n",
        "                hi = hint(guessed_no, actual_no)\n",
        "                print(\"Please try again !\")\n",
        "                print(hi)\n",
        "        except ValueError:\n",
        "            print(\"Please enter a valid number !\")\n",
        "    print(\"Thankyou for playing.... :)\")\n",
        "\n",
        "guess_game()\n"
      ],
      "execution_count": 1,
      "outputs": [
        {
          "output_type": "stream",
          "text": [
            "Welcome to Guess the number game:\n",
            "In this game you just have to guess the number.....so let's begin with it: \n",
            "Please enter the difficulty level:\n",
            "1.Easy - Between 1 to 10\n",
            "2.Medium - Between 11 to 100\n",
            "3.Hard - between 101 and 1000\n",
            "2\n",
            "Let the guessing begin:\n",
            "Here's a small hint for you to start with:\n",
            "The number is a Even number.\n",
            "Enter your guess :\n",
            "50\n",
            "Please try again !\n",
            "Your guess is way too high and remember the starting hint.\n",
            "Enter your guess :\n",
            "34\n",
            "Please try again !\n",
            "Your guess is way too high and remember the starting hint.\n",
            "Enter your guess :\n",
            "20\n",
            "Please try again !\n",
            "You can go more higher and remmber the starting hint.\n",
            "Enter your guess :\n",
            "30\n",
            "Your guess was correct.\n",
            "Thankyou for playing.... :)\n"
          ],
          "name": "stdout"
        }
      ]
    }
  ]
}