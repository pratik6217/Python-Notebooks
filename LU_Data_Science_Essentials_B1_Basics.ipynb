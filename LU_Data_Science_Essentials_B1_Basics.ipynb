{
  "nbformat": 4,
  "nbformat_minor": 0,
  "metadata": {
    "kernelspec": {
      "display_name": "Python 3",
      "language": "python",
      "name": "python3"
    },
    "language_info": {
      "codemirror_mode": {
        "name": "ipython",
        "version": 3
      },
      "file_extension": ".py",
      "mimetype": "text/x-python",
      "name": "python",
      "nbconvert_exporter": "python",
      "pygments_lexer": "ipython3",
      "version": "3.8.3"
    },
    "colab": {
      "name": "LU Data Science Essentials B1 - Basics.ipynb",
      "provenance": [],
      "include_colab_link": true
    }
  },
  "cells": [
    {
      "cell_type": "markdown",
      "metadata": {
        "id": "view-in-github",
        "colab_type": "text"
      },
      "source": [
        "<a href=\"https://colab.research.google.com/github/pratik6217/Python-Notebooks/blob/main/LU_Data_Science_Essentials_B1_Basics.ipynb\" target=\"_parent\"><img src=\"https://colab.research.google.com/assets/colab-badge.svg\" alt=\"Open In Colab\"/></a>"
      ]
    },
    {
      "cell_type": "markdown",
      "metadata": {
        "id": "KThjeF5e2Lcu"
      },
      "source": [
        "![Image of LetsUpgrade](https://media-exp1.licdn.com/dms/image/C511BAQHd9Z1TO0t-0A/company-background_10000/0?e=2159024400&v=beta&t=t5kx7AY2sqMmoMcv_lnr6cDWkd65C1l01I-DXH7iNs8)"
      ]
    },
    {
      "cell_type": "markdown",
      "metadata": {
        "id": "o8vou7gL2Lcy"
      },
      "source": [
        "# Connect me@\n",
        "\n",
        "# https://www.linkedin.com/in/dr-darshan-ingle-corporate-trainer/"
      ]
    },
    {
      "cell_type": "code",
      "metadata": {
        "id": "waBSyvqD2Lcz",
        "outputId": "6382e1db-3c8b-4c35-abdb-d825b29f463f"
      },
      "source": [
        "1+1"
      ],
      "execution_count": null,
      "outputs": [
        {
          "output_type": "execute_result",
          "data": {
            "text/plain": [
              "2"
            ]
          },
          "metadata": {
            "tags": []
          },
          "execution_count": 1
        }
      ]
    },
    {
      "cell_type": "code",
      "metadata": {
        "id": "koNxxQjX2Lc7",
        "outputId": "6aa5a9be-2c36-4d6e-f750-7dcc308f0281"
      },
      "source": [
        "2*9"
      ],
      "execution_count": null,
      "outputs": [
        {
          "output_type": "execute_result",
          "data": {
            "text/plain": [
              "18"
            ]
          },
          "metadata": {
            "tags": []
          },
          "execution_count": 2
        }
      ]
    },
    {
      "cell_type": "code",
      "metadata": {
        "id": "EzziOoE62Lc9",
        "outputId": "61291dce-c5c0-478a-dcce-1db414ad475e"
      },
      "source": [
        "2**3"
      ],
      "execution_count": null,
      "outputs": [
        {
          "output_type": "execute_result",
          "data": {
            "text/plain": [
              "8"
            ]
          },
          "metadata": {
            "tags": []
          },
          "execution_count": 3
        }
      ]
    },
    {
      "cell_type": "code",
      "metadata": {
        "id": "hb5seNuO2Lc9",
        "outputId": "49ec3728-102a-477a-a6e3-4b41393c2661"
      },
      "source": [
        "print(\"Hi LetsUpgrade\")"
      ],
      "execution_count": null,
      "outputs": [
        {
          "output_type": "stream",
          "text": [
            "Hi LetsUpgrade\n"
          ],
          "name": "stdout"
        }
      ]
    },
    {
      "cell_type": "code",
      "metadata": {
        "id": "Yfggvrtb2LdJ",
        "outputId": "4c37f5a7-5d16-4175-b155-8c2a7c4db124"
      },
      "source": [
        "print(\"Hi Darshan\")"
      ],
      "execution_count": null,
      "outputs": [
        {
          "output_type": "stream",
          "text": [
            "Hi Darshan\n"
          ],
          "name": "stdout"
        }
      ]
    },
    {
      "cell_type": "code",
      "metadata": {
        "id": "IRnJNtPi2LdJ",
        "outputId": "67e182b5-8d77-4a8b-e841-468e5976c87c"
      },
      "source": [
        "print(\"I am fine. How are you\")"
      ],
      "execution_count": null,
      "outputs": [
        {
          "output_type": "stream",
          "text": [
            "I am fine. How are you\n"
          ],
          "name": "stdout"
        }
      ]
    },
    {
      "cell_type": "code",
      "metadata": {
        "id": "-5VWDOP92LdJ",
        "outputId": "1af95512-3b0c-4a28-acd2-7328c70195aa"
      },
      "source": [
        "print(\"I am fine.nHow are you\")"
      ],
      "execution_count": null,
      "outputs": [
        {
          "output_type": "stream",
          "text": [
            "I am fine.nHow are you\n"
          ],
          "name": "stdout"
        }
      ]
    },
    {
      "cell_type": "markdown",
      "metadata": {
        "id": "3K-jPYL52LdJ"
      },
      "source": [
        "Escape sequences are \n",
        "\n",
        "\\n means Newline\n",
        "\n",
        "\\t means Tab"
      ]
    },
    {
      "cell_type": "code",
      "metadata": {
        "id": "3ZMDhf9g2LdZ",
        "outputId": "478506cd-e109-4ca0-cd4d-f1c1c2adb447"
      },
      "source": [
        "print(\"I am fine.\\nHow are you\")"
      ],
      "execution_count": null,
      "outputs": [
        {
          "output_type": "stream",
          "text": [
            "I am fine.\n",
            "How are you\n"
          ],
          "name": "stdout"
        }
      ]
    },
    {
      "cell_type": "code",
      "metadata": {
        "id": "ijXBmHZW2LdZ",
        "outputId": "727806f2-a48e-4c73-d8c9-16e2f893c85d"
      },
      "source": [
        "print(\"I am fine.\\tHow are you\")"
      ],
      "execution_count": null,
      "outputs": [
        {
          "output_type": "stream",
          "text": [
            "I am fine.\tHow are you\n"
          ],
          "name": "stdout"
        }
      ]
    },
    {
      "cell_type": "markdown",
      "metadata": {
        "id": "F7wQrPn52LdZ"
      },
      "source": [
        "Program to perform addition of two numbers."
      ]
    },
    {
      "cell_type": "code",
      "metadata": {
        "id": "9x9CsJXd2LdZ",
        "outputId": "c0bb98d5-e57f-42ee-a283-103ec2419173"
      },
      "source": [
        "a = 5 # a is a Variable and 5 is a constant\n",
        "b = 3 # # b is a Variable and 3 is a constant\n",
        "c = a+b\n",
        "print(\"c\")\n",
        "print(a)\n",
        "print(b)\n",
        "print(c)"
      ],
      "execution_count": null,
      "outputs": [
        {
          "output_type": "stream",
          "text": [
            "c\n",
            "5\n",
            "3\n",
            "8\n"
          ],
          "name": "stdout"
        }
      ]
    },
    {
      "cell_type": "code",
      "metadata": {
        "id": "gE8aP7oq2LdZ",
        "outputId": "f4510495-2110-40f9-8af6-926c3ce88de0"
      },
      "source": [
        "a = 20\n",
        "b = 300\n",
        "c = a+b\n",
        "print(\"Addition of a=\",a,\"and b=\",b,\"is c=\",c)"
      ],
      "execution_count": null,
      "outputs": [
        {
          "output_type": "stream",
          "text": [
            "Addition of a= 20 and b= 300 is c= 320\n"
          ],
          "name": "stdout"
        }
      ]
    },
    {
      "cell_type": "code",
      "metadata": {
        "id": "iyV6ci9G2Ldo",
        "outputId": "4a41f200-1730-4428-a7ce-5a23378ab7a0"
      },
      "source": [
        "a = 10\n",
        "print(a)\n",
        "print( type(a) )"
      ],
      "execution_count": null,
      "outputs": [
        {
          "output_type": "stream",
          "text": [
            "10\n",
            "<class 'int'>\n"
          ],
          "name": "stdout"
        }
      ]
    },
    {
      "cell_type": "code",
      "metadata": {
        "id": "NJvjxjCE2Ldo",
        "outputId": "bb8ff17f-ab86-4299-82c7-f1aa017d0969"
      },
      "source": [
        "type(10)"
      ],
      "execution_count": null,
      "outputs": [
        {
          "output_type": "execute_result",
          "data": {
            "text/plain": [
              "int"
            ]
          },
          "metadata": {
            "tags": []
          },
          "execution_count": 33
        }
      ]
    },
    {
      "cell_type": "code",
      "metadata": {
        "id": "SeyRf2-f2Ldo",
        "outputId": "dd57c90c-d86e-45ef-85ec-a7f9598aef8a"
      },
      "source": [
        "type(2.035464)"
      ],
      "execution_count": null,
      "outputs": [
        {
          "output_type": "execute_result",
          "data": {
            "text/plain": [
              "float"
            ]
          },
          "metadata": {
            "tags": []
          },
          "execution_count": 34
        }
      ]
    },
    {
      "cell_type": "code",
      "metadata": {
        "id": "z7Rpf2Wy2Ldo",
        "outputId": "fe71c233-0568-40b4-ab6b-58ae986e1419"
      },
      "source": [
        "type(-54646.1161)"
      ],
      "execution_count": null,
      "outputs": [
        {
          "output_type": "execute_result",
          "data": {
            "text/plain": [
              "float"
            ]
          },
          "metadata": {
            "tags": []
          },
          "execution_count": 35
        }
      ]
    },
    {
      "cell_type": "code",
      "metadata": {
        "id": "FSh5jAuQ2Ld4",
        "outputId": "6e52f6c5-cadc-4a9e-82a2-023347f87737"
      },
      "source": [
        "type(\"Darshan\")"
      ],
      "execution_count": null,
      "outputs": [
        {
          "output_type": "execute_result",
          "data": {
            "text/plain": [
              "str"
            ]
          },
          "metadata": {
            "tags": []
          },
          "execution_count": 36
        }
      ]
    },
    {
      "cell_type": "code",
      "metadata": {
        "id": "VGPT8G2i2Ld4",
        "outputId": "dc807cc2-d65b-4db5-89a3-3a5dd1b2d6f5"
      },
      "source": [
        "type('Lets Upgrade')"
      ],
      "execution_count": null,
      "outputs": [
        {
          "output_type": "execute_result",
          "data": {
            "text/plain": [
              "str"
            ]
          },
          "metadata": {
            "tags": []
          },
          "execution_count": 37
        }
      ]
    },
    {
      "cell_type": "code",
      "metadata": {
        "id": "oHyGBznT2Ld4",
        "outputId": "76a22935-7f90-45fa-a3c1-490de8f7fb61"
      },
      "source": [
        "type(True)"
      ],
      "execution_count": null,
      "outputs": [
        {
          "output_type": "execute_result",
          "data": {
            "text/plain": [
              "bool"
            ]
          },
          "metadata": {
            "tags": []
          },
          "execution_count": 38
        }
      ]
    },
    {
      "cell_type": "code",
      "metadata": {
        "id": "96ouJHYC2Ld4",
        "outputId": "1790fd77-6be3-480a-e6b2-ba69bc03de01"
      },
      "source": [
        "type(False)"
      ],
      "execution_count": null,
      "outputs": [
        {
          "output_type": "execute_result",
          "data": {
            "text/plain": [
              "bool"
            ]
          },
          "metadata": {
            "tags": []
          },
          "execution_count": 39
        }
      ]
    },
    {
      "cell_type": "code",
      "metadata": {
        "id": "b0Nj15aB2LeH",
        "outputId": "a1d07216-b2e5-4971-850d-2651c22d830a"
      },
      "source": [
        "type(2+3j)"
      ],
      "execution_count": null,
      "outputs": [
        {
          "output_type": "execute_result",
          "data": {
            "text/plain": [
              "complex"
            ]
          },
          "metadata": {
            "tags": []
          },
          "execution_count": 40
        }
      ]
    },
    {
      "cell_type": "code",
      "metadata": {
        "id": "b3fPesCL2LeH",
        "outputId": "100a9ad8-13b4-4814-c79a-7b1a506dc9fa"
      },
      "source": [
        "a = 2+3j\n",
        "b = 5+6j\n",
        "print(a+b)"
      ],
      "execution_count": null,
      "outputs": [
        {
          "output_type": "stream",
          "text": [
            "(7+9j)\n"
          ],
          "name": "stdout"
        }
      ]
    },
    {
      "cell_type": "code",
      "metadata": {
        "id": "EvSqctgT2LeH",
        "outputId": "7ad1f099-69b9-40e9-def6-b92788810e81"
      },
      "source": [
        "print(\"Darshan\")"
      ],
      "execution_count": null,
      "outputs": [
        {
          "output_type": "stream",
          "text": [
            "Darshan\n"
          ],
          "name": "stdout"
        }
      ]
    },
    {
      "cell_type": "code",
      "metadata": {
        "id": "xT3yTxRO2LeX",
        "outputId": "37dadb82-e214-4d9b-d65d-385b646c6bd9"
      },
      "source": [
        "import keyword\n",
        "keyword.kwlist"
      ],
      "execution_count": null,
      "outputs": [
        {
          "output_type": "execute_result",
          "data": {
            "text/plain": [
              "['False',\n",
              " 'None',\n",
              " 'True',\n",
              " 'and',\n",
              " 'as',\n",
              " 'assert',\n",
              " 'async',\n",
              " 'await',\n",
              " 'break',\n",
              " 'class',\n",
              " 'continue',\n",
              " 'def',\n",
              " 'del',\n",
              " 'elif',\n",
              " 'else',\n",
              " 'except',\n",
              " 'finally',\n",
              " 'for',\n",
              " 'from',\n",
              " 'global',\n",
              " 'if',\n",
              " 'import',\n",
              " 'in',\n",
              " 'is',\n",
              " 'lambda',\n",
              " 'nonlocal',\n",
              " 'not',\n",
              " 'or',\n",
              " 'pass',\n",
              " 'raise',\n",
              " 'return',\n",
              " 'try',\n",
              " 'while',\n",
              " 'with',\n",
              " 'yield']"
            ]
          },
          "metadata": {
            "tags": []
          },
          "execution_count": 45
        }
      ]
    },
    {
      "cell_type": "code",
      "metadata": {
        "id": "U6dz-7tZ2LeX",
        "outputId": "24323d8e-1521-44cd-b830-356cbf39a3ff"
      },
      "source": [
        "len(keyword.kwlist)"
      ],
      "execution_count": null,
      "outputs": [
        {
          "output_type": "execute_result",
          "data": {
            "text/plain": [
              "35"
            ]
          },
          "metadata": {
            "tags": []
          },
          "execution_count": 47
        }
      ]
    },
    {
      "cell_type": "code",
      "metadata": {
        "id": "JtIw47wt2LeX",
        "outputId": "d3ecceb0-1277-4879-fc2d-774e1681fa35"
      },
      "source": [
        "print(\"while\")"
      ],
      "execution_count": null,
      "outputs": [
        {
          "output_type": "stream",
          "text": [
            "while\n"
          ],
          "name": "stdout"
        }
      ]
    },
    {
      "cell_type": "code",
      "metadata": {
        "id": "GZ7Abiit2LeX",
        "outputId": "fe5937a3-92d7-48cc-d96e-ce4f2d38d71d"
      },
      "source": [
        "c = 45\n",
        "print(c)\n",
        "print(type(c))\n",
        "print(c)"
      ],
      "execution_count": null,
      "outputs": [
        {
          "output_type": "stream",
          "text": [
            "45\n",
            "<class 'int'>\n",
            "45\n"
          ],
          "name": "stdout"
        }
      ]
    },
    {
      "cell_type": "markdown",
      "metadata": {
        "id": "ldBgt63w2Len"
      },
      "source": [
        "# Operators"
      ]
    },
    {
      "cell_type": "code",
      "metadata": {
        "id": "cwMSEU3P2Len",
        "outputId": "037283c3-c5c0-4493-8ade-0e79714d43a7"
      },
      "source": [
        "# Arithmetic\n",
        "print(2+3)\n",
        "print(2-3)\n",
        "print(2*3)\n",
        "print(7/2)\n",
        "print(7//2) # // Floor Division - Quotient\n",
        "print(7%2) # % Modulo - Remainder"
      ],
      "execution_count": null,
      "outputs": [
        {
          "output_type": "stream",
          "text": [
            "5\n",
            "-1\n",
            "6\n",
            "3.5\n",
            "3\n",
            "1\n"
          ],
          "name": "stdout"
        }
      ]
    },
    {
      "cell_type": "code",
      "metadata": {
        "id": "p14LgWiD2Len",
        "outputId": "5a8c440a-3903-4d36-cac8-79f545387c13"
      },
      "source": [
        "# Relational < <= > >= == !=\n",
        "print(2<3)\n",
        "print(3<1)\n",
        "print(3<=5)\n",
        "print(4==4)\n",
        "print(5==4)\n",
        "print(5!=4)"
      ],
      "execution_count": null,
      "outputs": [
        {
          "output_type": "stream",
          "text": [
            "True\n",
            "False\n",
            "True\n",
            "True\n",
            "False\n",
            "True\n"
          ],
          "name": "stdout"
        }
      ]
    },
    {
      "cell_type": "code",
      "metadata": {
        "id": "B5_buMcM2Len",
        "outputId": "be015888-8f16-4dfa-dfad-848b763cc173"
      },
      "source": [
        "# Membership: in, not in\n",
        "\n",
        "'a' in \"Darshan\""
      ],
      "execution_count": null,
      "outputs": [
        {
          "output_type": "execute_result",
          "data": {
            "text/plain": [
              "True"
            ]
          },
          "metadata": {
            "tags": []
          },
          "execution_count": 64
        }
      ]
    },
    {
      "cell_type": "code",
      "metadata": {
        "id": "U393_RYp2Len",
        "outputId": "954afc3c-b43a-4ae1-9124-68d2137480e6"
      },
      "source": [
        "'A' in \"Darshan\""
      ],
      "execution_count": null,
      "outputs": [
        {
          "output_type": "execute_result",
          "data": {
            "text/plain": [
              "False"
            ]
          },
          "metadata": {
            "tags": []
          },
          "execution_count": 65
        }
      ]
    },
    {
      "cell_type": "code",
      "metadata": {
        "id": "iwrh4B8i2Le2",
        "outputId": "3e40901b-4486-4b41-eb76-402c4207e747"
      },
      "source": [
        "'a' not in \"Darshan\""
      ],
      "execution_count": null,
      "outputs": [
        {
          "output_type": "execute_result",
          "data": {
            "text/plain": [
              "False"
            ]
          },
          "metadata": {
            "tags": []
          },
          "execution_count": 66
        }
      ]
    },
    {
      "cell_type": "code",
      "metadata": {
        "id": "No7XQAOX2Le2",
        "outputId": "32a66364-4949-4cb8-a151-2cbc6c59e018"
      },
      "source": [
        "22 in [10,22,33,55,12,14]"
      ],
      "execution_count": null,
      "outputs": [
        {
          "output_type": "execute_result",
          "data": {
            "text/plain": [
              "True"
            ]
          },
          "metadata": {
            "tags": []
          },
          "execution_count": 67
        }
      ]
    },
    {
      "cell_type": "code",
      "metadata": {
        "id": "ZYPa_kSZ2Le2",
        "outputId": "d52f1574-fc26-4104-cc20-ef4bbe5afc9b"
      },
      "source": [
        "a=5\n",
        "print(id(a)) # Address of a in RAM\n",
        "b=5\n",
        "print(id(b)) # Address of b in RAM\n",
        "b=45\n",
        "print(id(b)) # Address of b in RAM"
      ],
      "execution_count": null,
      "outputs": [
        {
          "output_type": "stream",
          "text": [
            "140715890456480\n",
            "140715890456480\n",
            "140715890457760\n"
          ],
          "name": "stdout"
        }
      ]
    },
    {
      "cell_type": "code",
      "metadata": {
        "id": "IAwsMrA-2Le2",
        "outputId": "b0cfecc9-91c6-4118-f4ff-90d273b684b9"
      },
      "source": [
        "a=5\n",
        "print(id(a)) # Address of a in RAM\n",
        "b=5\n",
        "print(id(b)) # Address of b in RAM\n",
        "b=5.0\n",
        "print(id(b)) # Address of b in RAM"
      ],
      "execution_count": null,
      "outputs": [
        {
          "output_type": "stream",
          "text": [
            "140715890456480\n",
            "140715890456480\n",
            "1656644333232\n"
          ],
          "name": "stdout"
        }
      ]
    },
    {
      "cell_type": "markdown",
      "metadata": {
        "id": "zdt8bbUt2Le2"
      },
      "source": [
        "# Conditional statements:\n",
        "\n",
        "if\n",
        "\n",
        "elif\n",
        "\n",
        "else"
      ]
    },
    {
      "cell_type": "code",
      "metadata": {
        "id": "tfVl9fGE2Le2",
        "outputId": "d8660fcd-e990-47a9-f6df-507a0abdf847"
      },
      "source": [
        "x = 5\n",
        "if x==5:\n",
        "    print(\"Value of x=\",x)\n",
        "    print(\"Hi I am Dr. Darshan Ingle\")\n",
        "print(\"I am out of if statement\")"
      ],
      "execution_count": null,
      "outputs": [
        {
          "output_type": "stream",
          "text": [
            "Value of x= 5\n",
            "Hi I am Dr. Darshan Ingle\n",
            "I am out of if statement\n"
          ],
          "name": "stdout"
        }
      ]
    },
    {
      "cell_type": "code",
      "metadata": {
        "id": "frQu0n212LfG",
        "outputId": "1ff809a7-e514-4f76-de45-73db609c6f44"
      },
      "source": [
        "x = 15\n",
        "if x==5:\n",
        "    print(\"Value of x=\",x)\n",
        "    print(\"Hi I am Dr. Darshan Ingle\")\n",
        "print(\"I am out of if statement\")"
      ],
      "execution_count": null,
      "outputs": [
        {
          "output_type": "stream",
          "text": [
            "I am out of if statement\n"
          ],
          "name": "stdout"
        }
      ]
    },
    {
      "cell_type": "code",
      "metadata": {
        "id": "Syq3QPzg2LfG",
        "outputId": "b4bcf5c3-05ab-4c3c-baa9-e5a9c208f418"
      },
      "source": [
        "# Program to check if the input number is even or odd\n",
        "x = 60\n",
        "if x%2 == 0:\n",
        "    print(x,\"is an Even Number\")\n",
        "else:\n",
        "    print(x,\"is a Odd Number\")"
      ],
      "execution_count": null,
      "outputs": [
        {
          "output_type": "stream",
          "text": [
            "60 is an Even Number\n"
          ],
          "name": "stdout"
        }
      ]
    },
    {
      "cell_type": "code",
      "metadata": {
        "id": "gL1E7-NF2LfG",
        "outputId": "a144b64c-ee15-4e20-ef3c-a39e71323112"
      },
      "source": [
        "x = 35\n",
        "if x>35:\n",
        "    print(x,\"is greater than 35\")\n",
        "elif x<35:\n",
        "    print(x,\"is less than 35\")\n",
        "else:\n",
        "    print(x,\"is equal to 35\")"
      ],
      "execution_count": null,
      "outputs": [
        {
          "output_type": "stream",
          "text": [
            "35 is equal to 35\n"
          ],
          "name": "stdout"
        }
      ]
    },
    {
      "cell_type": "code",
      "metadata": {
        "id": "oXQcK5892LfG",
        "outputId": "c770b219-ef41-424d-c48b-124898a1df50"
      },
      "source": [
        "x = 350\n",
        "if x>35:\n",
        "    print(x,\"is greater than 35\")\n",
        "elif x<35:\n",
        "    print(x,\"is less than 35\")\n",
        "else:\n",
        "    print(x,\"is equal to 35\")"
      ],
      "execution_count": null,
      "outputs": [
        {
          "output_type": "stream",
          "text": [
            "350 is greater than 35\n"
          ],
          "name": "stdout"
        }
      ]
    },
    {
      "cell_type": "code",
      "metadata": {
        "id": "Bkq9xhzO2LfW",
        "outputId": "6a9a96b8-9138-40cc-a025-40925a012102"
      },
      "source": [
        "x = 3\n",
        "if x>35:\n",
        "    print(x,\"is greater than 35\")\n",
        "elif x<35:\n",
        "    print(x,\"is less than 35\")\n",
        "else:\n",
        "    print(x,\"is equal to 35\")"
      ],
      "execution_count": null,
      "outputs": [
        {
          "output_type": "stream",
          "text": [
            "3 is less than 35\n"
          ],
          "name": "stdout"
        }
      ]
    },
    {
      "cell_type": "markdown",
      "metadata": {
        "id": "89k1ZnfL2LfW"
      },
      "source": [
        "# Input Output in Python"
      ]
    },
    {
      "cell_type": "code",
      "metadata": {
        "id": "UhqwVYRT2LfW",
        "outputId": "c327a682-88f4-4227-9dde-d0a7430d5c7a"
      },
      "source": [
        "x = input()\n",
        "print(\"x is\",x)"
      ],
      "execution_count": null,
      "outputs": [
        {
          "output_type": "stream",
          "text": [
            "Darshan\n",
            "x is Darshan\n"
          ],
          "name": "stdout"
        }
      ]
    },
    {
      "cell_type": "code",
      "metadata": {
        "id": "HLjKiCpw2Lfl",
        "outputId": "70f6c385-7fbb-4064-9303-3a02ff1a6734"
      },
      "source": [
        "x = input(\"Enter the value of x:\")\n",
        "print(\"x is\",x)"
      ],
      "execution_count": null,
      "outputs": [
        {
          "output_type": "stream",
          "text": [
            "Enter the value of x:Lets Upgrade\n",
            "x is Lets Upgrade\n"
          ],
          "name": "stdout"
        }
      ]
    },
    {
      "cell_type": "code",
      "metadata": {
        "id": "qvXsZEMg2Lfl",
        "outputId": "c7d65e22-d2e3-458a-8d51-ae9f65935874"
      },
      "source": [
        "no1 = input(\"Enter 1st number:\")\n",
        "no2 = input(\"Enter 2nd number:\")\n",
        "add = no1 + no2\n",
        "print(\"Addition is\",add)"
      ],
      "execution_count": null,
      "outputs": [
        {
          "output_type": "stream",
          "text": [
            "Enter 1st number:75\n",
            "Enter 2nd number:25\n",
            "Addition is 7525\n"
          ],
          "name": "stdout"
        }
      ]
    },
    {
      "cell_type": "code",
      "metadata": {
        "id": "RIY1g5FZ2Lfl",
        "outputId": "b8ce40ca-7151-4778-f4dd-3371e18cda35"
      },
      "source": [
        "s1 = \"Darshan\"\n",
        "s2 = \" is a trainer at Lets Upgrade\"\n",
        "print(s1+s2)"
      ],
      "execution_count": null,
      "outputs": [
        {
          "output_type": "stream",
          "text": [
            "Darshan is a trainer at Lets Upgrade\n"
          ],
          "name": "stdout"
        }
      ]
    },
    {
      "cell_type": "code",
      "metadata": {
        "id": "HsG24rAi2Lf1",
        "outputId": "a4475b9f-d3e5-4585-a3dd-ed0d496daa91"
      },
      "source": [
        "s1 = \"75\"\n",
        "s2 = \"25\"\n",
        "print(s1+s2)"
      ],
      "execution_count": null,
      "outputs": [
        {
          "output_type": "stream",
          "text": [
            "7525\n"
          ],
          "name": "stdout"
        }
      ]
    },
    {
      "cell_type": "code",
      "metadata": {
        "id": "3opOeGPy2Lf1",
        "outputId": "8776bdc0-ddf9-4e08-ca10-384359540c36"
      },
      "source": [
        "x = input(\"Enter input:\")\n",
        "print(x)\n",
        "print(type(x))"
      ],
      "execution_count": null,
      "outputs": [
        {
          "output_type": "stream",
          "text": [
            "Enter input:75\n",
            "75\n",
            "<class 'str'>\n"
          ],
          "name": "stdout"
        }
      ]
    },
    {
      "cell_type": "code",
      "metadata": {
        "id": "K1H-s2om2LgA",
        "outputId": "e28a69df-cedd-4c9e-8507-bd1ca3a08e6b"
      },
      "source": [
        "a = \"75\"\n",
        "print(a)\n",
        "print(type(a))\n",
        "b = int(a)\n",
        "print(b)\n",
        "print(type(b))"
      ],
      "execution_count": null,
      "outputs": [
        {
          "output_type": "stream",
          "text": [
            "75\n",
            "<class 'str'>\n",
            "75\n",
            "<class 'int'>\n"
          ],
          "name": "stdout"
        }
      ]
    },
    {
      "cell_type": "code",
      "metadata": {
        "id": "7L9ykoxx2LgD",
        "outputId": "caba3314-7763-4c5a-c412-3ecc1df7600d"
      },
      "source": [
        "no1 = int(input(\"Enter 1st number:\"))\n",
        "no2 = int(input(\"Enter 2nd number:\"))\n",
        "add = no1 + no2\n",
        "print(\"Addition is\",add)"
      ],
      "execution_count": null,
      "outputs": [
        {
          "output_type": "stream",
          "text": [
            "Enter 1st number:75\n",
            "Enter 2nd number:25\n",
            "Addition is 100\n"
          ],
          "name": "stdout"
        }
      ]
    },
    {
      "cell_type": "markdown",
      "metadata": {
        "id": "x0gU41JQ2LgK"
      },
      "source": [
        "# Happy Learning"
      ]
    }
  ]
}