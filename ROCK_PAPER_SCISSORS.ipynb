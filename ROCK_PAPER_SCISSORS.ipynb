{
  "nbformat": 4,
  "nbformat_minor": 0,
  "metadata": {
    "colab": {
      "name": "ROCK PAPER SCISSORS.ipynb",
      "provenance": [],
      "collapsed_sections": [],
      "authorship_tag": "ABX9TyN2o8+oVTgJmEDX9Kot8zVT",
      "include_colab_link": true
    },
    "kernelspec": {
      "name": "python3",
      "display_name": "Python 3"
    }
  },
  "cells": [
    {
      "cell_type": "markdown",
      "metadata": {
        "id": "view-in-github",
        "colab_type": "text"
      },
      "source": [
        "<a href=\"https://colab.research.google.com/github/pratik6217/Python-Notebooks/blob/main/ROCK_PAPER_SCISSORS.ipynb\" target=\"_parent\"><img src=\"https://colab.research.google.com/assets/colab-badge.svg\" alt=\"Open In Colab\"/></a>"
      ]
    },
    {
      "cell_type": "code",
      "metadata": {
        "id": "Qvvsbt-xOXRe",
        "outputId": "682755c0-f0ce-4d92-f313-c2518180827e",
        "colab": {
          "base_uri": "https://localhost:8080/"
        }
      },
      "source": [
        "import random\n",
        "\n",
        "class WrongChoiceError(Exception):\n",
        "    \"\"\" Raise this error if the user enters wrong choice\"\"\"\n",
        "    pass\n",
        "\n",
        "def choice():\n",
        "    choices = [\"rock\", \"paper\", \"scissors\"]\n",
        "    return random.choice(choices)\n",
        "\n",
        "def rock_paper_scissors():\n",
        "    print(\"Welcome to Rock, Paper, Scissors.\\n******Rules******\\nYou can either enter the entire word i.e. rock,paper,scissors or just their initials i.e. r for rock and so on:\\nLet's begin playing this game\")\n",
        "    while True:\n",
        "        _choice = choice()\n",
        "        print(\"It's your turn.\\nPlease enter your choice:\")\n",
        "        try:\n",
        "            player_choice = input()\n",
        "            if any([player_choice == \"rock\", player_choice == \"r\", player_choice == \"paper\", player_choice.lower() == \"p\", player_choice == \"scissors\", player_choice == \"s\"]):\n",
        "                if (player_choice.lower() == \"rock\" or player_choice.lower() == \"r\") and (_choice == \"scissors\" ):\n",
        "                    print(\"You won !\")\n",
        "                elif (player_choice.lower() == \"rock\" or player_choice.lower() == \"r\") and (_choice == \"paper\" ):\n",
        "                    print(\"You lost !\")\n",
        "                elif (player_choice.lower() == \"scissors\" or player_choice.lower() == \"s\") and (_choice == \"paper\" ):\n",
        "                    print(\"You won !\")\n",
        "                elif (player_choice.lower() == \"scissors\" or player_choice.lower() == \"s\") and (_choice == \"rock\" ):\n",
        "                    print(\"You lost !\")\n",
        "                elif (player_choice.lower() == \"paper\" or player_choice.lower() == \"p\") and (_choice == \"rock\" ):\n",
        "                    print(\"You won !\")\n",
        "                elif (player_choice.lower() == \"paper\" or player_choice.lower() == \"p\") and (_choice == \"scissors\" ):\n",
        "                    print(\"You lost !\")\n",
        "                elif (player_choice.lower() == \"paper\" or player_choice.lower() == \"p\") and (_choice == \"paper\" ):\n",
        "                    print(\"It's a tie !\")\n",
        "                    continue\n",
        "                elif (player_choice.lower() == \"scissors\" or player_choice.lower() == \"s\") and (_choice == \"scissors\" ):\n",
        "                    print(\"It's a tie !\")\n",
        "                    continue\n",
        "                elif (player_choice.lower() == \"rock\" or player_choice.lower() == \"r\") and (_choice == \"rock\" ):\n",
        "                    print(\"It's a tie !\")\n",
        "                    continue\n",
        "            else:\n",
        "                raise WrongChoiceError\n",
        "                \n",
        "        except WrongChoiceError:\n",
        "            print(\"Please enter a valid choice !\")\n",
        "        \n",
        "\n",
        "rock_paper_scissors()"
      ],
      "execution_count": null,
      "outputs": [
        {
          "output_type": "stream",
          "text": [
            "Welcome to Rock, Paper, Scissors.\n",
            "******Rules******\n",
            "You can either enter the entire word i.e. rock,paper,scissors or just their initials i.e. r for rock and so on:\n",
            "Let's begin playing this game\n",
            "It's your turn.\n",
            "Please enter your choice:\n",
            "r\n",
            "You lost !\n",
            "It's your turn.\n",
            "Please enter your choice:\n",
            "p\n",
            "You won !\n",
            "It's your turn.\n",
            "Please enter your choice:\n",
            "s\n",
            "You lost !\n",
            "It's your turn.\n",
            "Please enter your choice:\n",
            "rock\n",
            "It's a tie !\n",
            "It's your turn.\n",
            "Please enter your choice:\n"
          ],
          "name": "stdout"
        }
      ]
    }
  ]
}